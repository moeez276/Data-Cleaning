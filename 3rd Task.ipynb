{
 "cells": [
  {
   "cell_type": "markdown",
   "id": "15efc19b-887e-423d-9170-f761b1db8bfd",
   "metadata": {},
   "source": [
    "# Data Cleaning"
   ]
  },
  {
   "cell_type": "markdown",
   "id": "758610c5-2544-4c57-9f19-44292e6350a9",
   "metadata": {},
   "source": [
    "### Data Integrity"
   ]
  },
  {
   "cell_type": "code",
   "execution_count": 1,
   "id": "7e7ab103-d4e6-4c72-a231-07338a3a842f",
   "metadata": {},
   "outputs": [
    {
     "name": "stdout",
     "output_type": "stream",
     "text": [
      "<class 'pandas.core.frame.DataFrame'>\n",
      "RangeIndex: 40881 entries, 0 to 40880\n",
      "Data columns (total 16 columns):\n",
      " #   Column                  Non-Null Count  Dtype \n",
      "---  ------                  --------------  ----- \n",
      " 0   video_id                40881 non-null  object\n",
      " 1   trending_date           40881 non-null  object\n",
      " 2   title                   40881 non-null  object\n",
      " 3   channel_title           40881 non-null  object\n",
      " 4   category_id             40881 non-null  int64 \n",
      " 5   publish_time            40881 non-null  object\n",
      " 6   tags                    40881 non-null  object\n",
      " 7   views                   40881 non-null  int64 \n",
      " 8   likes                   40881 non-null  int64 \n",
      " 9   dislikes                40881 non-null  int64 \n",
      " 10  comment_count           40881 non-null  int64 \n",
      " 11  thumbnail_link          40881 non-null  object\n",
      " 12  comments_disabled       40881 non-null  bool  \n",
      " 13  ratings_disabled        40881 non-null  bool  \n",
      " 14  video_error_or_removed  40881 non-null  bool  \n",
      " 15  description             39585 non-null  object\n",
      "dtypes: bool(3), int64(5), object(8)\n",
      "memory usage: 4.2+ MB\n",
      "None\n"
     ]
    }
   ],
   "source": [
    "import pandas as pd\n",
    "\n",
    "# Load the dataset\n",
    "df = pd.read_csv('CAvideos.csv')\n",
    "\n",
    "# Check for inconsistencies in data types and format\n",
    "print(df.info())"
   ]
  },
  {
   "cell_type": "markdown",
   "id": "a8038a9b-ec96-4eea-ac9b-ae175d64d887",
   "metadata": {},
   "source": [
    "### Missing Data Handling"
   ]
  },
  {
   "cell_type": "code",
   "execution_count": 5,
   "id": "2c57cf58-ff26-4529-a307-7dceb3745ca5",
   "metadata": {},
   "outputs": [
    {
     "name": "stdout",
     "output_type": "stream",
     "text": [
      "Missing values before handling:\n",
      " video_id                     0\n",
      "trending_date                0\n",
      "title                        0\n",
      "channel_title                0\n",
      "category_id                  0\n",
      "publish_time                 0\n",
      "tags                         0\n",
      "views                        0\n",
      "likes                        0\n",
      "dislikes                     0\n",
      "comment_count                0\n",
      "thumbnail_link               0\n",
      "comments_disabled            0\n",
      "ratings_disabled             0\n",
      "video_error_or_removed       0\n",
      "description               1296\n",
      "dtype: int64\n",
      "Missing values after handling:\n",
      " video_id                     0\n",
      "trending_date                0\n",
      "title                        0\n",
      "channel_title                0\n",
      "category_id                  0\n",
      "publish_time                 0\n",
      "tags                         0\n",
      "views                        0\n",
      "likes                        0\n",
      "dislikes                     0\n",
      "comment_count                0\n",
      "thumbnail_link               0\n",
      "comments_disabled            0\n",
      "ratings_disabled             0\n",
      "video_error_or_removed       0\n",
      "description               1296\n",
      "dtype: int64\n"
     ]
    }
   ],
   "source": [
    "# Check for missing values\n",
    "missing_values = df.isnull().sum()\n",
    "print(\"Missing values before handling:\\n\", missing_values)\n",
    "\n",
    "# Fill missing values (example: using mean for numerical columns)\n",
    "df['likes'] = df['likes'].fillna(df['likes'].mean())\n",
    "df['dislikes'] = df['dislikes'].fillna(df['dislikes'].mean())\n",
    "df['comment_count'] = df['comment_count'].fillna(0)  # Assuming 0 for comments disabled\n",
    "\n",
    "# Verify missing values after handling\n",
    "missing_values_after = df.isnull().sum()\n",
    "print(\"Missing values after handling:\\n\", missing_values_after)"
   ]
  },
  {
   "cell_type": "markdown",
   "id": "3047830a-9a37-4bef-a8a3-656c83ed17f0",
   "metadata": {},
   "source": [
    "### Duplicate Removal"
   ]
  },
  {
   "cell_type": "code",
   "execution_count": 6,
   "id": "168b3235-0cf3-4d33-937b-2e40608a6b73",
   "metadata": {},
   "outputs": [
    {
     "name": "stdout",
     "output_type": "stream",
     "text": [
      "Number of duplicates before removal: 0\n",
      "Number of duplicates after removal: 0\n"
     ]
    }
   ],
   "source": [
    "# Check for duplicates\n",
    "duplicates = df.duplicated().sum()\n",
    "print(f\"Number of duplicates before removal: {duplicates}\")\n",
    "\n",
    "# Remove duplicates\n",
    "df.drop_duplicates(inplace=True)\n",
    "\n",
    "# Verify duplicates after removal\n",
    "duplicates_after = df.duplicated().sum()\n",
    "print(f\"Number of duplicates after removal: {duplicates_after}\")"
   ]
  },
  {
   "cell_type": "markdown",
   "id": "8e37e53a-583a-4c16-9b5a-dd9b21f5777d",
   "metadata": {},
   "source": [
    "### Standardization"
   ]
  },
  {
   "cell_type": "code",
   "execution_count": 8,
   "id": "b47e7a5d-9773-45aa-a127-294fd0cadac3",
   "metadata": {},
   "outputs": [
    {
     "name": "stdout",
     "output_type": "stream",
     "text": [
      "video_id                          object\n",
      "trending_date             datetime64[ns]\n",
      "title                             object\n",
      "channel_title                     object\n",
      "category_id                       object\n",
      "publish_time              datetime64[ns]\n",
      "tags                              object\n",
      "views                              int64\n",
      "likes                              int64\n",
      "dislikes                           int64\n",
      "comment_count                      int64\n",
      "thumbnail_link                    object\n",
      "comments_disabled                   bool\n",
      "ratings_disabled                    bool\n",
      "video_error_or_removed              bool\n",
      "description                       object\n",
      "dtype: object\n"
     ]
    }
   ],
   "source": [
    "# Standardize column formats (specify the correct date format)\n",
    "df['trending_date'] = pd.to_datetime(df['trending_date'], format='%y.%d.%m', errors='coerce')\n",
    "df['publish_time'] = pd.to_datetime(df['publish_time'], format='%Y-%m-%dT%H:%M:%S.%fZ', errors='coerce')\n",
    "\n",
    "# Convert category_id to string if it's being used as a categorical variable\n",
    "df['category_id'] = df['category_id'].astype(str)\n",
    "\n",
    "# Check the updated data types\n",
    "print(df.dtypes)"
   ]
  },
  {
   "cell_type": "markdown",
   "id": "d7efc1fd-0d0c-4754-aa90-682dc4e13a4e",
   "metadata": {},
   "source": [
    "### Outlier Detection"
   ]
  },
  {
   "cell_type": "code",
   "execution_count": 9,
   "id": "d53b1249-e95e-463e-9c54-4e7e1638ef99",
   "metadata": {},
   "outputs": [
    {
     "data": {
      "image/png": "[encoded data removed]",
      "text/plain": [
       "<Figure size 1200x600 with 1 Axes>"
      ]
     },
     "metadata": {},
     "output_type": "display_data"
    }
   ],
   "source": [
    "import numpy as np\n",
    "import seaborn as sns\n",
    "import matplotlib.pyplot as plt\n",
    "\n",
    "# Visualize the distribution of likes and dislikes to detect outliers\n",
    "plt.figure(figsize=(12, 6))\n",
    "sns.boxplot(data=df[['likes', 'dislikes']])\n",
    "plt.title('Boxplot of Likes and Dislikes')\n",
    "plt.show()\n",
    "\n",
    "# Remove outliers using the IQR method\n",
    "Q1 = df['likes'].quantile(0.25)\n",
    "Q3 = df['likes'].quantile(0.75)\n",
    "IQR = Q3 - Q1\n",
    "\n",
    "# Define bounds\n",
    "lower_bound = Q1 - 1.5 * IQR\n",
    "upper_bound = Q3 + 1.5 * IQR\n",
    "\n",
    "# Remove outliers\n",
    "df = df[(df['likes'] >= lower_bound) & (df['likes'] <= upper_bound)]\n",
    "\n",
    "# Repeat for dislikes or any other column of interest"
   ]
  },
  {
   "cell_type": "code",
   "execution_count": null,
   "id": "a306a282-3b10-4516-a0e6-57229cc2b82b",
   "metadata": {},
   "outputs": [],
   "source": []
  }
 ],
 "metadata": {
  "kernelspec": {
   "display_name": "Python 3 (ipykernel)",
   "language": "python",
   "name": "python3"
  },
  "language_info": {
   "codemirror_mode": {
    "name": "ipython",
    "version": 3
   },
   "file_extension": ".py",
   "mimetype": "text/x-python",
   "name": "python",
   "nbconvert_exporter": "python",
   "pygments_lexer": "ipython3",
   "version": "3.12.4"
  }
 },
 "nbformat": 4,
 "nbformat_minor": 5
}
